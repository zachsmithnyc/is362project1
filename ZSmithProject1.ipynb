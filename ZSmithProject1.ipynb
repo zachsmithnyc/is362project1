{
 "cells": [
  {
   "cell_type": "markdown",
   "metadata": {},
   "source": [
    "# Project 1"
   ]
  },
  {
   "cell_type": "markdown",
   "metadata": {},
   "source": [
    "The first thing we need to do in order to analyze this data is read in the csv file and store it as a pandas dataframe. "
   ]
  },
  {
   "cell_type": "code",
   "execution_count": 109,
   "metadata": {},
   "outputs": [
    {
     "data": {
      "text/plain": [
       "            city  airline  ontime_count  delayed_count\n",
       "0    Los Angeles   Alaska           497             62\n",
       "1    Los Angeles  AM West           694            117\n",
       "2        Phoenix   Alaska           221             12\n",
       "3        Phoenix  AM West          4840            415\n",
       "4      San Diego   Alaska           212             20\n",
       "5      San Diego  AM West           383             65\n",
       "6  San Francisco   Alaska           503            102\n",
       "7  San Francisco  AM West           320            129\n",
       "8        Seattle   Alaska          1841            305\n",
       "9        Seattle  AM West           201             61"
      ]
     },
     "execution_count": 109,
     "metadata": {},
     "output_type": "execute_result"
    }
   ],
   "source": [
    "import numpy as np\n",
    "import pandas as pd\n",
    "\n",
    "df = pd.read_csv('ontime_delayedflights.csv')\n",
    "\n",
    "df"
   ]
  },
  {
   "cell_type": "markdown",
   "metadata": {},
   "source": [
    "We are going to compare the average number of on time and delayed flights for each airline. In order to do that we need to create two new data frames which contain the separate flight data for each airline. We will do that by using boolean logic to caputre only the rows where the airline is equal to the value we want.  "
   ]
  },
  {
   "cell_type": "code",
   "execution_count": 110,
   "metadata": {},
   "outputs": [],
   "source": [
    "al = df[df.airline == 'Alaska']\n",
    "am = df[df.airline == 'AM West']"
   ]
  },
  {
   "cell_type": "markdown",
   "metadata": {},
   "source": [
    "Now we can calculate the averages\n",
    "\n",
    "For Alaska:"
   ]
  },
  {
   "cell_type": "code",
   "execution_count": 112,
   "metadata": {},
   "outputs": [
    {
     "data": {
      "text/plain": [
       "ontime_count     654.8\n",
       "delayed_count    100.2\n",
       "dtype: float64"
      ]
     },
     "execution_count": 112,
     "metadata": {},
     "output_type": "execute_result"
    }
   ],
   "source": [
    "al[['ontime_count', 'delayed_count']].mean()"
   ]
  },
  {
   "cell_type": "markdown",
   "metadata": {},
   "source": [
    "For AM West:"
   ]
  },
  {
   "cell_type": "code",
   "execution_count": 113,
   "metadata": {},
   "outputs": [
    {
     "data": {
      "text/plain": [
       "ontime_count     1287.6\n",
       "delayed_count     157.4\n",
       "dtype: float64"
      ]
     },
     "execution_count": 113,
     "metadata": {},
     "output_type": "execute_result"
    }
   ],
   "source": [
    "am[['ontime_count', 'delayed_count']].mean()"
   ]
  },
  {
   "cell_type": "markdown",
   "metadata": {},
   "source": [
    "As you can see Alaska Airlines had an average of 654.8 ontime flights and 100.2 delayed flights over the five cities. \n",
    "\n",
    "AM West had an average of 1287.6 ontime flights and 157.4 delayed. \n",
    "\n",
    "Although AM west had a higher rate of ontime flights they also had a higher rate of delayed flights. This is probably due to conducting a higher number of flights over all. \n",
    "\n",
    "pandas can help us to verify this. We will use the cumsum() method to create a series which adds each subsequent column value to the next. We will the use idxmax to give us the index location of the total sum which we will then add together. "
   ]
  },
  {
   "cell_type": "code",
   "execution_count": 114,
   "metadata": {},
   "outputs": [],
   "source": [
    "alontime = al.ontime_count.cumsum()\n",
    "aldelayed = al.delayed_count.cumsum()\n",
    "\n",
    "amontime = am.ontime_count.cumsum()\n",
    "amdelayed = am.delayed_count.cumsum()\n",
    "\n",
    "alotmax = alontime.idxmax()\n",
    "aldmax = aldelayed.idxmax()\n",
    "amotmax = amontime.idxmax()\n",
    "amdmax = amdelayed.idxmax()"
   ]
  },
  {
   "cell_type": "code",
   "execution_count": 115,
   "metadata": {},
   "outputs": [],
   "source": [
    "altotal = alontime.loc[alotmax] + aldelayed.loc[aldmax]\n",
    "amtotal = amontime.loc[amotmax] + amontime.loc[amdmax]"
   ]
  },
  {
   "cell_type": "code",
   "execution_count": 116,
   "metadata": {},
   "outputs": [
    {
     "data": {
      "text/plain": [
       "3775"
      ]
     },
     "execution_count": 116,
     "metadata": {},
     "output_type": "execute_result"
    }
   ],
   "source": [
    "altotal"
   ]
  },
  {
   "cell_type": "code",
   "execution_count": 117,
   "metadata": {},
   "outputs": [
    {
     "data": {
      "text/plain": [
       "12876"
      ]
     },
     "execution_count": 117,
     "metadata": {},
     "output_type": "execute_result"
    }
   ],
   "source": [
    "amtotal"
   ]
  },
  {
   "cell_type": "markdown",
   "metadata": {},
   "source": [
    "Now we can see that AM West flew almost triple the amount of total flights of Alaska in our data. This is probably what accounts for the much higher rate of ontime flights. \n",
    "\n",
    "There are other comparisons we can do as well. \n",
    "\n",
    "Let's find out which city and airline had the most flights over all. .idxmax() will give us the index location of both the max ontime and delayed flights."
   ]
  },
  {
   "cell_type": "code",
   "execution_count": 118,
   "metadata": {},
   "outputs": [
    {
     "data": {
      "text/plain": [
       "ontime_count     3\n",
       "delayed_count    3\n",
       "dtype: int64"
      ]
     },
     "execution_count": 118,
     "metadata": {},
     "output_type": "execute_result"
    }
   ],
   "source": [
    "df[['ontime_count', 'delayed_count']].idxmax()"
   ]
  },
  {
   "cell_type": "markdown",
   "metadata": {},
   "source": [
    "Now we can look up this index to see the whole picture. "
   ]
  },
  {
   "cell_type": "code",
   "execution_count": 119,
   "metadata": {},
   "outputs": [
    {
     "data": {
      "text/plain": [
       "city             Phoenix\n",
       "airline          AM West\n",
       "ontime_count        4840\n",
       "delayed_count        415\n",
       "Name: 3, dtype: object"
      ]
     },
     "execution_count": 119,
     "metadata": {},
     "output_type": "execute_result"
    }
   ],
   "source": [
    "df.loc[3]"
   ]
  },
  {
   "cell_type": "markdown",
   "metadata": {},
   "source": [
    "AM West flights out of Phoenix were responsible for the highest number of ontime and delayed flights in this dataset. \n",
    "\n",
    "Now we can do the reverse and find the index of the minimum values."
   ]
  },
  {
   "cell_type": "code",
   "execution_count": 120,
   "metadata": {},
   "outputs": [
    {
     "data": {
      "text/plain": [
       "ontime_count     9\n",
       "delayed_count    2\n",
       "dtype: int64"
      ]
     },
     "execution_count": 120,
     "metadata": {},
     "output_type": "execute_result"
    }
   ],
   "source": [
    "df[['ontime_count', 'delayed_count']].idxmin()"
   ]
  },
  {
   "cell_type": "markdown",
   "metadata": {},
   "source": [
    "For the minimum values we get two different index locations."
   ]
  },
  {
   "cell_type": "code",
   "execution_count": 121,
   "metadata": {},
   "outputs": [
    {
     "data": {
      "text/plain": [
       "city             Seattle\n",
       "airline          AM West\n",
       "ontime_count         201\n",
       "delayed_count         61\n",
       "Name: 9, dtype: object"
      ]
     },
     "execution_count": 121,
     "metadata": {},
     "output_type": "execute_result"
    }
   ],
   "source": [
    "df.loc[9]"
   ]
  },
  {
   "cell_type": "code",
   "execution_count": 122,
   "metadata": {},
   "outputs": [
    {
     "data": {
      "text/plain": [
       "city             Phoenix\n",
       "airline           Alaska\n",
       "ontime_count         221\n",
       "delayed_count         12\n",
       "Name: 2, dtype: object"
      ]
     },
     "execution_count": 122,
     "metadata": {},
     "output_type": "execute_result"
    }
   ],
   "source": [
    "df.loc[2]"
   ]
  },
  {
   "cell_type": "markdown",
   "metadata": {},
   "source": [
    "So the minimum amount of ontime flights were from AM West in Seattle and the minimum delayed flights were from Alaska Airlines in Phoenix. \n",
    "\n",
    "We can do the same operations to find the Min and Max values individually using our separated dataframes. "
   ]
  },
  {
   "cell_type": "code",
   "execution_count": 123,
   "metadata": {},
   "outputs": [
    {
     "data": {
      "text/plain": [
       "ontime_count     8\n",
       "delayed_count    8\n",
       "dtype: int64"
      ]
     },
     "execution_count": 123,
     "metadata": {},
     "output_type": "execute_result"
    }
   ],
   "source": [
    "al[['ontime_count', 'delayed_count']].idxmax()"
   ]
  },
  {
   "cell_type": "code",
   "execution_count": 124,
   "metadata": {},
   "outputs": [
    {
     "data": {
      "text/plain": [
       "city             Seattle\n",
       "airline           Alaska\n",
       "ontime_count        1841\n",
       "delayed_count        305\n",
       "Name: 8, dtype: object"
      ]
     },
     "execution_count": 124,
     "metadata": {},
     "output_type": "execute_result"
    }
   ],
   "source": [
    "al.loc[8]"
   ]
  },
  {
   "cell_type": "code",
   "execution_count": 125,
   "metadata": {},
   "outputs": [
    {
     "data": {
      "text/plain": [
       "ontime_count     4\n",
       "delayed_count    2\n",
       "dtype: int64"
      ]
     },
     "execution_count": 125,
     "metadata": {},
     "output_type": "execute_result"
    }
   ],
   "source": [
    "al[['ontime_count', 'delayed_count']].idxmin()"
   ]
  },
  {
   "cell_type": "code",
   "execution_count": 126,
   "metadata": {},
   "outputs": [
    {
     "data": {
      "text/plain": [
       "city             San Diego\n",
       "airline             Alaska\n",
       "ontime_count           212\n",
       "delayed_count           20\n",
       "Name: 4, dtype: object"
      ]
     },
     "execution_count": 126,
     "metadata": {},
     "output_type": "execute_result"
    }
   ],
   "source": [
    "al.loc[4]"
   ]
  },
  {
   "cell_type": "code",
   "execution_count": 127,
   "metadata": {},
   "outputs": [
    {
     "data": {
      "text/plain": [
       "city             Phoenix\n",
       "airline           Alaska\n",
       "ontime_count         221\n",
       "delayed_count         12\n",
       "Name: 2, dtype: object"
      ]
     },
     "execution_count": 127,
     "metadata": {},
     "output_type": "execute_result"
    }
   ],
   "source": [
    "al.loc[2]"
   ]
  },
  {
   "cell_type": "code",
   "execution_count": 128,
   "metadata": {},
   "outputs": [
    {
     "data": {
      "text/plain": [
       "ontime_count     3\n",
       "delayed_count    3\n",
       "dtype: int64"
      ]
     },
     "execution_count": 128,
     "metadata": {},
     "output_type": "execute_result"
    }
   ],
   "source": [
    "am[['ontime_count', 'delayed_count']].idxmax()"
   ]
  },
  {
   "cell_type": "code",
   "execution_count": 129,
   "metadata": {},
   "outputs": [
    {
     "data": {
      "text/plain": [
       "city             Phoenix\n",
       "airline          AM West\n",
       "ontime_count        4840\n",
       "delayed_count        415\n",
       "Name: 3, dtype: object"
      ]
     },
     "execution_count": 129,
     "metadata": {},
     "output_type": "execute_result"
    }
   ],
   "source": [
    "am.loc[3]"
   ]
  },
  {
   "cell_type": "code",
   "execution_count": 130,
   "metadata": {},
   "outputs": [
    {
     "data": {
      "text/plain": [
       "ontime_count     9\n",
       "delayed_count    9\n",
       "dtype: int64"
      ]
     },
     "execution_count": 130,
     "metadata": {},
     "output_type": "execute_result"
    }
   ],
   "source": [
    "am[['ontime_count', 'delayed_count']].idxmin()"
   ]
  },
  {
   "cell_type": "code",
   "execution_count": 131,
   "metadata": {},
   "outputs": [
    {
     "data": {
      "text/plain": [
       "city             Seattle\n",
       "airline          AM West\n",
       "ontime_count         201\n",
       "delayed_count         61\n",
       "Name: 9, dtype: object"
      ]
     },
     "execution_count": 131,
     "metadata": {},
     "output_type": "execute_result"
    }
   ],
   "source": [
    "am.loc[9]"
   ]
  },
  {
   "cell_type": "markdown",
   "metadata": {},
   "source": [
    "This analysis leads us to conclude that these airlines operate most frequently in the regions they are named for. Alaska Airlines most flights operate out of Seatlle and it's least operate out of San Diego and Phoenix. AM West operates mostly out of Phoenix and minimally out of Seattle. \n",
    "\n",
    "We can also see that although AM West has a higher rate of on time flights this is due to the large number of flights they operate out of Phoenix. We can also see that the rate of delayed flights is quite similar for both airlines. "
   ]
  }
 ],
 "metadata": {
  "kernelspec": {
   "display_name": "Python 3 (ipykernel)",
   "language": "python",
   "name": "python3"
  },
  "language_info": {
   "codemirror_mode": {
    "name": "ipython",
    "version": 3
   },
   "file_extension": ".py",
   "mimetype": "text/x-python",
   "name": "python",
   "nbconvert_exporter": "python",
   "pygments_lexer": "ipython3",
   "version": "3.9.12"
  }
 },
 "nbformat": 4,
 "nbformat_minor": 2
}
